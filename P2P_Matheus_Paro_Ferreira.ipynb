{
  "nbformat": 4,
  "nbformat_minor": 0,
  "metadata": {
    "colab": {
      "name": "P2P_Matheus_Paro_Ferreira.ipynb",
      "provenance": [],
      "collapsed_sections": []
    },
    "kernelspec": {
      "name": "python3",
      "display_name": "Python 3"
    }
  },
  "cells": [
    {
      "cell_type": "code",
      "metadata": {
        "id": "g1HjXLqyJSAL"
      },
      "source": [
        "import numpy as np # linear algebra\n",
        "import pandas as pd # data processing, CSV file I/O (e.g. pd.read_csv)\n",
        "import matplotlib as plt\n",
        "\n",
        "DIR = \"Master_Loan_Summary.csv\""
      ],
      "execution_count": null,
      "outputs": []
    },
    {
      "cell_type": "code",
      "metadata": {
        "id": "EqhY3VdSJcEY",
        "colab": {
          "base_uri": "https://localhost:8080/",
          "height": 237
        },
        "outputId": "ed3d19ab-fcd7-46e9-8910-c4db52f649d8"
      },
      "source": [
        "ds = pd.read_csv(DIR)\n",
        "#Taking out useless variables\n",
        "ds = ds.drop([\"loan_number\", \"term\", \"grade\", \"origination_date\", \"listing_title\", \"last_payment_date\", \"next_payment_due_date\", \"data_source\"], axis = 1)\n",
        "ds.head()"
      ],
      "execution_count": null,
      "outputs": [
        {
          "output_type": "stream",
          "text": [
            "/usr/local/lib/python3.6/dist-packages/IPython/core/interactiveshell.py:2718: DtypeWarning: Columns (7) have mixed types.Specify dtype option on import or set low_memory=False.\n",
            "  interactivity=interactivity, compiler=compiler, result=result)\n"
          ],
          "name": "stderr"
        },
        {
          "output_type": "execute_result",
          "data": {
            "text/html": [
              "<div>\n",
              "<style scoped>\n",
              "    .dataframe tbody tr th:only-of-type {\n",
              "        vertical-align: middle;\n",
              "    }\n",
              "\n",
              "    .dataframe tbody tr th {\n",
              "        vertical-align: top;\n",
              "    }\n",
              "\n",
              "    .dataframe thead th {\n",
              "        text-align: right;\n",
              "    }\n",
              "</style>\n",
              "<table border=\"1\" class=\"dataframe\">\n",
              "  <thead>\n",
              "    <tr style=\"text-align: right;\">\n",
              "      <th></th>\n",
              "      <th>amount_borrowed</th>\n",
              "      <th>borrower_rate</th>\n",
              "      <th>installment</th>\n",
              "      <th>principal_balance</th>\n",
              "      <th>principal_paid</th>\n",
              "      <th>interest_paid</th>\n",
              "      <th>late_fees_paid</th>\n",
              "      <th>debt_sale_proceeds_received</th>\n",
              "      <th>days_past_due</th>\n",
              "      <th>loan_status_description</th>\n",
              "    </tr>\n",
              "  </thead>\n",
              "  <tbody>\n",
              "    <tr>\n",
              "      <th>0</th>\n",
              "      <td>27050.0</td>\n",
              "      <td>0.1099</td>\n",
              "      <td>885.46</td>\n",
              "      <td>0.0</td>\n",
              "      <td>27050.0</td>\n",
              "      <td>4702.53</td>\n",
              "      <td>0.0</td>\n",
              "      <td>0.0</td>\n",
              "      <td>0</td>\n",
              "      <td>COMPLETED</td>\n",
              "    </tr>\n",
              "    <tr>\n",
              "      <th>1</th>\n",
              "      <td>4800.0</td>\n",
              "      <td>0.1099</td>\n",
              "      <td>157.13</td>\n",
              "      <td>0.0</td>\n",
              "      <td>4800.0</td>\n",
              "      <td>357.52</td>\n",
              "      <td>0.0</td>\n",
              "      <td>0.0</td>\n",
              "      <td>0</td>\n",
              "      <td>COMPLETED</td>\n",
              "    </tr>\n",
              "    <tr>\n",
              "      <th>2</th>\n",
              "      <td>12000.0</td>\n",
              "      <td>0.0762</td>\n",
              "      <td>373.94</td>\n",
              "      <td>0.0</td>\n",
              "      <td>12000.0</td>\n",
              "      <td>1397.54</td>\n",
              "      <td>0.0</td>\n",
              "      <td>0.0</td>\n",
              "      <td>0</td>\n",
              "      <td>COMPLETED</td>\n",
              "    </tr>\n",
              "    <tr>\n",
              "      <th>3</th>\n",
              "      <td>12000.0</td>\n",
              "      <td>0.1199</td>\n",
              "      <td>398.52</td>\n",
              "      <td>0.0</td>\n",
              "      <td>12000.0</td>\n",
              "      <td>2346.48</td>\n",
              "      <td>0.0</td>\n",
              "      <td>0.0</td>\n",
              "      <td>0</td>\n",
              "      <td>COMPLETED</td>\n",
              "    </tr>\n",
              "    <tr>\n",
              "      <th>4</th>\n",
              "      <td>12000.0</td>\n",
              "      <td>0.0662</td>\n",
              "      <td>368.45</td>\n",
              "      <td>0.0</td>\n",
              "      <td>12000.0</td>\n",
              "      <td>1263.95</td>\n",
              "      <td>0.0</td>\n",
              "      <td>0.0</td>\n",
              "      <td>0</td>\n",
              "      <td>COMPLETED</td>\n",
              "    </tr>\n",
              "  </tbody>\n",
              "</table>\n",
              "</div>"
            ],
            "text/plain": [
              "   amount_borrowed  borrower_rate  ...  days_past_due  loan_status_description\n",
              "0          27050.0         0.1099  ...              0                COMPLETED\n",
              "1           4800.0         0.1099  ...              0                COMPLETED\n",
              "2          12000.0         0.0762  ...              0                COMPLETED\n",
              "3          12000.0         0.1199  ...              0                COMPLETED\n",
              "4          12000.0         0.0662  ...              0                COMPLETED\n",
              "\n",
              "[5 rows x 10 columns]"
            ]
          },
          "metadata": {
            "tags": []
          },
          "execution_count": 7
        }
      ]
    },
    {
      "cell_type": "code",
      "metadata": {
        "colab": {
          "base_uri": "https://localhost:8080/"
        },
        "id": "ubokzX2VUVE7",
        "outputId": "6c6b762c-cca3-4ce1-ee41-0c9a90a565c9"
      },
      "source": [
        "\n",
        "#Creating a dataset for every Grade\n",
        "status = {\"CHARGEOFF\": 1,\"COMPLETED\": 0,\"CURRENT\": None, \"DEFAULTED\": 1}\n",
        "datasets = {}\n",
        "for des, value in status.items():\n",
        "    mask = ds[\"loan_status_description\"].isin([des])\n",
        "    datasets[des] = ds.loc[mask]\n",
        "    if des != \"CURRENT\":\n",
        "        datasets[des][\"result\"] = value\n",
        "    datasets[des] = datasets[des].drop([\"loan_status_description\"], axis =1)\n",
        "    \n"
      ],
      "execution_count": null,
      "outputs": [
        {
          "output_type": "stream",
          "text": [
            "/usr/local/lib/python3.6/dist-packages/ipykernel_launcher.py:9: SettingWithCopyWarning: \n",
            "A value is trying to be set on a copy of a slice from a DataFrame.\n",
            "Try using .loc[row_indexer,col_indexer] = value instead\n",
            "\n",
            "See the caveats in the documentation: https://pandas.pydata.org/pandas-docs/stable/user_guide/indexing.html#returning-a-view-versus-a-copy\n",
            "  if __name__ == '__main__':\n"
          ],
          "name": "stderr"
        }
      ]
    },
    {
      "cell_type": "code",
      "metadata": {
        "colab": {
          "base_uri": "https://localhost:8080/"
        },
        "id": "w_UDmvUBUam1",
        "outputId": "cb481bfa-c0f3-436a-8980-fd5200b6af71"
      },
      "source": [
        "print(datasets[\"DEFAULTED\"].sample())"
      ],
      "execution_count": null,
      "outputs": [
        {
          "output_type": "stream",
          "text": [
            "         amount_borrowed  borrower_rate  ...  days_past_due  result\n",
            "2171058          15000.0         0.1095  ...              0       1\n",
            "\n",
            "[1 rows x 10 columns]\n"
          ],
          "name": "stdout"
        }
      ]
    },
    {
      "cell_type": "code",
      "metadata": {
        "id": "W6Y2K6wxUmDx"
      },
      "source": [
        "#splitting inputs and outputs\n",
        "all_dataset = pd.concat([datasets[\"CHARGEOFF\"], datasets[\"DEFAULTED\"], datasets[\"COMPLETED\"]])\n",
        "X = all_dataset.iloc[:, :-1].values\n",
        "y = all_dataset.iloc[:, -1].values"
      ],
      "execution_count": null,
      "outputs": []
    },
    {
      "cell_type": "code",
      "metadata": {
        "id": "jhlGI6-1UnQJ"
      },
      "source": [
        "#splitting dataset\n",
        "from sklearn.model_selection import train_test_split\n",
        "X_train, X_test, y_train, y_test = train_test_split(X, y, test_size = 0.25, random_state = 0)"
      ],
      "execution_count": null,
      "outputs": []
    },
    {
      "cell_type": "code",
      "metadata": {
        "id": "KZqDYCwpUnSh"
      },
      "source": [
        "#scaling our values\n",
        "from sklearn.preprocessing import StandardScaler\n",
        "sc = StandardScaler()\n",
        "X_train = sc.fit_transform(X_train)\n",
        "X_test = sc.transform(X_test)"
      ],
      "execution_count": null,
      "outputs": []
    },
    {
      "cell_type": "code",
      "metadata": {
        "colab": {
          "base_uri": "https://localhost:8080/"
        },
        "id": "QTxGuEhlUnU6",
        "outputId": "e6baadbb-2e2a-4aff-947a-e1e1410ad3c6"
      },
      "source": [
        "X_train"
      ],
      "execution_count": null,
      "outputs": [
        {
          "output_type": "execute_result",
          "data": {
            "text/plain": [
              "array([[-0.96120624,  1.5637401 , -0.79738562, ..., -0.13931302,\n",
              "        -0.20223961, -0.35802068],\n",
              "       [ 1.07447544, -0.47022071,  1.30343548, ...,  3.28923691,\n",
              "        -0.20223961,  0.53836444],\n",
              "       [-0.16723069, -1.13831003, -0.14073774, ..., -0.13931302,\n",
              "        -0.20223961, -0.35802068],\n",
              "       ...,\n",
              "       [ 0.11931688,  0.2943704 ,  0.37595059, ...,  1.04603217,\n",
              "         2.25416437,  2.74307636],\n",
              "       [-0.99105494,  0.03826949, -1.17542443, ..., -0.13931302,\n",
              "        -0.20223961, -0.35802068],\n",
              "       [-0.47765722, -0.80240957, -0.42999585, ..., -0.13931302,\n",
              "        -0.20223961, -0.35802068]])"
            ]
          },
          "metadata": {
            "tags": []
          },
          "execution_count": 13
        }
      ]
    },
    {
      "cell_type": "code",
      "metadata": {
        "colab": {
          "base_uri": "https://localhost:8080/"
        },
        "id": "Pnsr__qZUnXb",
        "outputId": "e309d972-2ffd-4225-f343-a52eb30a274c"
      },
      "source": [
        "#Training Model\n",
        "from sklearn.tree import DecisionTreeClassifier\n",
        "classifier = DecisionTreeClassifier(criterion = 'entropy', random_state = 0)\n",
        "classifier.fit(X_train, y_train)"
      ],
      "execution_count": null,
      "outputs": [
        {
          "output_type": "execute_result",
          "data": {
            "text/plain": [
              "DecisionTreeClassifier(ccp_alpha=0.0, class_weight=None, criterion='entropy',\n",
              "                       max_depth=None, max_features=None, max_leaf_nodes=None,\n",
              "                       min_impurity_decrease=0.0, min_impurity_split=None,\n",
              "                       min_samples_leaf=1, min_samples_split=2,\n",
              "                       min_weight_fraction_leaf=0.0, presort='deprecated',\n",
              "                       random_state=0, splitter='best')"
            ]
          },
          "metadata": {
            "tags": []
          },
          "execution_count": 14
        }
      ]
    },
    {
      "cell_type": "code",
      "metadata": {
        "colab": {
          "base_uri": "https://localhost:8080/"
        },
        "id": "-LS8F4XTUnZv",
        "outputId": "0767a791-f372-464e-8850-4be39a374ec3"
      },
      "source": [
        "#Making a Confusion matrix with the validation set\n",
        "y_pred = classifier.predict(X_test)\n",
        "from sklearn.metrics import confusion_matrix, accuracy_score\n",
        "cm = confusion_matrix(y_test, y_pred)\n",
        "print(cm)\n",
        "accuracy_score(y_test, y_pred)"
      ],
      "execution_count": null,
      "outputs": [
        {
          "output_type": "stream",
          "text": [
            "[[293370    312]\n",
            " [   298  78864]]\n"
          ],
          "name": "stdout"
        },
        {
          "output_type": "execute_result",
          "data": {
            "text/plain": [
              "0.9983639270043235"
            ]
          },
          "metadata": {
            "tags": []
          },
          "execution_count": 15
        }
      ]
    },
    {
      "cell_type": "code",
      "metadata": {
        "colab": {
          "base_uri": "https://localhost:8080/"
        },
        "id": "nY0x5OzuUncR",
        "outputId": "5de97f0b-0bf6-4c89-847f-02a1e02299e4"
      },
      "source": [
        "from termcolor import colored\n",
        "#predicting one sample of the current loans\n",
        "sample = datasets[\"CURRENT\"].sample()\n",
        "\n",
        "print(\"amount_borrowed: \" , int(sample['amount_borrowed']))\n",
        "print(\"borrower_rate: \" , float(sample['borrower_rate']))\n",
        "print(\"installment: \" , int(sample['installment']))\n",
        "print(\"principal_balance: \" , int(sample['principal_balance']))\n",
        "print(\"principal_paid: \" , int(sample['principal_paid']))\n",
        "print(\"interest_paid: \" , int(sample['interest_paid']))\n",
        "print(\"late_fees_paid: \" , float(sample['late_fees_paid']))\n",
        "print(\"debt_sale_proceeds_received: \" ,float( sample['debt_sale_proceeds_received']))\n",
        "print(\"days_past_due: \" , int(sample['days_past_due']))\n",
        "print(\"\\n\")\n",
        "prediction = classifier.predict(sc.transform(sample))\n",
        "if prediction[0] == 1:\n",
        "    print(colored(\"Prediction: More likely to Default\", 'red'))\n",
        "else:\n",
        "    print(colored(\"Prediction: More likely to Pay their Debts\", 'green'))"
      ],
      "execution_count": null,
      "outputs": [
        {
          "output_type": "stream",
          "text": [
            "amount_borrowed:  20000\n",
            "borrower_rate:  0.0959\n",
            "installment:  641\n",
            "principal_balance:  16035\n",
            "principal_paid:  3964\n",
            "interest_paid:  1167\n",
            "late_fees_paid:  0.0\n",
            "debt_sale_proceeds_received:  0.0\n",
            "days_past_due:  0\n",
            "\n",
            "\n",
            "\u001b[32mPrediction: More likely to Pay their Debts\u001b[0m\n"
          ],
          "name": "stdout"
        }
      ]
    }
  ]
}